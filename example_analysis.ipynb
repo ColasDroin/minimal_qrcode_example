{
 "cells": [
  {
   "cell_type": "code",
   "execution_count": null,
   "metadata": {},
   "outputs": [],
   "source": [
    "# Imports\n",
    "from analysis_functions import add_QR_code, copy_study_on_eos, archive_and_clean\n",
    "import numpy as np\n",
    "import matplotlib.pyplot as plt"
   ]
  },
  {
   "cell_type": "markdown",
   "metadata": {},
   "source": [
    "Copy first the study on EOS so that it's available _via_ cernbox."
   ]
  },
  {
   "cell_type": "code",
   "execution_count": null,
   "metadata": {},
   "outputs": [],
   "source": [
    "# Study name\n",
    "study_name = \"example_HL_tunescan\"\n",
    "path_study = \"/afs/cern.ch/work/u/user/private/example_DA_study/master_study/\"\n",
    "path_EOS = \"/eos/home-u/user/save_simulations/\"\n",
    "\n",
    "# Copy analysis to EOS\n",
    "copy_study_on_eos(\n",
    "    study_name=study_name,\n",
    "    path_study=path_study,\n",
    "    path_EOS=path_EOS,\n",
    "    type_analysis=\"dummy_analysis\",\n",
    "    copy_master_jobs=True,\n",
    "    copy_analysis=True,\n",
    "    copy_tree_scripts=True,\n",
    "    copy_scan=True,\n",
    ")\n",
    "\n",
    "# Archive and clean analysis\n",
    "archive_and_clean(study_name, path_EOS)"
   ]
  },
  {
   "cell_type": "code",
   "execution_count": null,
   "metadata": {},
   "outputs": [],
   "source": [
    "# Create example plot with QR code\n",
    "x = np.linspace(0, 10, 100)\n",
    "y = np.sin(x)\n",
    "fig, ax = plt.subplots()\n",
    "plt.plot(x, y)\n",
    "# Update this link with the link to the study on EOS\n",
    "add_QR_code(fig, \"https://cernbox.cern.ch/\")\n",
    "ax.set_xlabel(\"x\")\n",
    "ax.set_ylabel(\"y\")\n",
    "ax.set_title(\"Example plot with QR code\")\n",
    "fig.show()\n",
    "\n",
    "# The plot must be saved as pdf so that the hyperlink works\n",
    "fig.savefig(\"example_plot.pdf\")"
   ]
  }
 ],
 "metadata": {
  "kernelspec": {
   "display_name": "Python 3",
   "language": "python",
   "name": "python3"
  },
  "language_info": {
   "codemirror_mode": {
    "name": "ipython",
    "version": 3
   },
   "file_extension": ".py",
   "mimetype": "text/x-python",
   "name": "python",
   "nbconvert_exporter": "python",
   "pygments_lexer": "ipython3",
   "version": "3.11.4"
  },
  "orig_nbformat": 4,
  "vscode": {
   "interpreter": {
    "hash": "258ed27130092d1611e438a5ae26a3133782840bad2ac649c8a295d1052b554d"
   }
  }
 },
 "nbformat": 4,
 "nbformat_minor": 2
}
